{
 "cells": [
  {
   "cell_type": "code",
   "execution_count": 12,
   "metadata": {},
   "outputs": [],
   "source": [
    "import speech_recognition as SR"
   ]
  },
  {
   "cell_type": "code",
   "execution_count": 19,
   "metadata": {},
   "outputs": [
    {
     "name": "stdout",
     "output_type": "stream",
     "text": [
      "Speak something!\n",
      "aur I will also get some right so let's say hello and weight if we are getting the output or not\n"
     ]
    }
   ],
   "source": [
    "R = SR.Recognizer()\n",
    "\n",
    "with SR.Microphone() as source:\n",
    "    \n",
    "    print(\"Speak something!\")\n",
    "        \n",
    "    audio = R.listen(source)\n",
    "    \n",
    "    try:\n",
    "        text = R.recognize_google(audio)\n",
    "        print(text)\n",
    "    \n",
    "    except:\n",
    "        print(\"Sorry, I didn't get that!\")\n",
    "        \n",
    "text = str(text)\n",
    "\n",
    "\n",
    "if (text == \"what is my name\"):\n",
    "    print('Your name is Ashish.')\n",
    "    \n",
    "elif (text == \"Turn off the lights\"):\n",
    "    print('Alarm is set for tomorrow 5AM')"
   ]
  }
 ],
 "metadata": {
  "kernelspec": {
   "display_name": "Python 2",
   "language": "python",
   "name": "python2"
  },
  "language_info": {
   "codemirror_mode": {
    "name": "ipython",
    "version": 2
   },
   "file_extension": ".py",
   "mimetype": "text/x-python",
   "name": "python",
   "nbconvert_exporter": "python",
   "pygments_lexer": "ipython2",
   "version": "2.7.16"
  }
 },
 "nbformat": 4,
 "nbformat_minor": 2
}
