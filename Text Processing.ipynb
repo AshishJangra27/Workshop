{
 "cells": [
  {
   "cell_type": "code",
   "execution_count": 10,
   "metadata": {},
   "outputs": [],
   "source": [
    "from nltk.tokenize import sent_tokenize"
   ]
  },
  {
   "cell_type": "code",
   "execution_count": 3,
   "metadata": {},
   "outputs": [],
   "source": [
    "f = open(\"moby.txt\", \"r\")\n",
    "text = f.read()"
   ]
  },
  {
   "cell_type": "code",
   "execution_count": 12,
   "metadata": {},
   "outputs": [],
   "source": [
    "sent_tok = sent_tokenize(text)"
   ]
  },
  {
   "cell_type": "code",
   "execution_count": 22,
   "metadata": {},
   "outputs": [
    {
     "data": {
      "text/plain": [
       "['**The',\n",
       " 'Project',\n",
       " 'Gutenberg',\n",
       " 'Etext',\n",
       " 'of',\n",
       " 'Moby',\n",
       " 'Dick,',\n",
       " 'by',\n",
       " 'Herman',\n",
       " 'Melville**\\r\\n#3',\n",
       " 'in',\n",
       " 'our',\n",
       " 'series',\n",
       " 'by',\n",
       " 'Herman',\n",
       " 'Melville\\r\\n\\r\\nThis',\n",
       " 'Project',\n",
       " 'Gutenberg',\n",
       " 'version',\n",
       " 'of',\n",
       " 'Moby',\n",
       " 'Dick',\n",
       " 'is',\n",
       " 'based',\n",
       " 'on',\n",
       " 'a',\n",
       " 'combination\\r\\nof',\n",
       " 'the',\n",
       " 'etext',\n",
       " 'from',\n",
       " 'the',\n",
       " 'ERIS',\n",
       " 'project',\n",
       " 'at',\n",
       " 'Virginia',\n",
       " 'Tech',\n",
       " 'and',\n",
       " 'another',\n",
       " 'from\\r\\nProject',\n",
       " \"Gutenberg's\",\n",
       " 'archives,',\n",
       " 'as',\n",
       " 'compared',\n",
       " 'to',\n",
       " 'a',\n",
       " 'public-domain',\n",
       " 'hard',\n",
       " 'copy.']"
      ]
     },
     "execution_count": 22,
     "metadata": {},
     "output_type": "execute_result"
    }
   ],
   "source": [
    "sent_tok[0].split(' ')"
   ]
  },
  {
   "cell_type": "code",
   "execution_count": 26,
   "metadata": {},
   "outputs": [],
   "source": [
    "txt = sent_tok[0].split(' ')"
   ]
  },
  {
   "cell_type": "code",
   "execution_count": 50,
   "metadata": {},
   "outputs": [],
   "source": [
    "word_to_num = {}\n",
    "num_to_word = {}\n",
    "\n",
    "ref = 0\n",
    "for i in txt:\n",
    "    \n",
    "    ref += 1\n",
    "    word_to_num[i] = ref\n",
    "    num_to_word[ref] = i"
   ]
  },
  {
   "cell_type": "code",
   "execution_count": 51,
   "metadata": {},
   "outputs": [
    {
     "data": {
      "text/plain": [
       "{'**The': 1,\n",
       " 'Dick': 22,\n",
       " 'Dick,': 7,\n",
       " 'ERIS': 32,\n",
       " 'Etext': 4,\n",
       " 'Gutenberg': 18,\n",
       " \"Gutenberg's\": 40,\n",
       " 'Herman': 15,\n",
       " 'Melville\\r\\n\\r\\nThis': 16,\n",
       " 'Melville**\\r\\n#3': 10,\n",
       " 'Moby': 21,\n",
       " 'Project': 17,\n",
       " 'Tech': 36,\n",
       " 'Virginia': 35,\n",
       " 'a': 45,\n",
       " 'and': 37,\n",
       " 'another': 38,\n",
       " 'archives,': 41,\n",
       " 'as': 42,\n",
       " 'at': 34,\n",
       " 'based': 24,\n",
       " 'by': 14,\n",
       " 'combination\\r\\nof': 27,\n",
       " 'compared': 43,\n",
       " 'copy.': 48,\n",
       " 'etext': 29,\n",
       " 'from': 30,\n",
       " 'from\\r\\nProject': 39,\n",
       " 'hard': 47,\n",
       " 'in': 11,\n",
       " 'is': 23,\n",
       " 'of': 20,\n",
       " 'on': 25,\n",
       " 'our': 12,\n",
       " 'project': 33,\n",
       " 'public-domain': 46,\n",
       " 'series': 13,\n",
       " 'the': 31,\n",
       " 'to': 44,\n",
       " 'version': 19}"
      ]
     },
     "execution_count": 51,
     "metadata": {},
     "output_type": "execute_result"
    }
   ],
   "source": [
    "word_to_num"
   ]
  },
  {
   "cell_type": "code",
   "execution_count": 52,
   "metadata": {},
   "outputs": [
    {
     "data": {
      "text/plain": [
       "{1: '**The',\n",
       " 2: 'Project',\n",
       " 3: 'Gutenberg',\n",
       " 4: 'Etext',\n",
       " 5: 'of',\n",
       " 6: 'Moby',\n",
       " 7: 'Dick,',\n",
       " 8: 'by',\n",
       " 9: 'Herman',\n",
       " 10: 'Melville**\\r\\n#3',\n",
       " 11: 'in',\n",
       " 12: 'our',\n",
       " 13: 'series',\n",
       " 14: 'by',\n",
       " 15: 'Herman',\n",
       " 16: 'Melville\\r\\n\\r\\nThis',\n",
       " 17: 'Project',\n",
       " 18: 'Gutenberg',\n",
       " 19: 'version',\n",
       " 20: 'of',\n",
       " 21: 'Moby',\n",
       " 22: 'Dick',\n",
       " 23: 'is',\n",
       " 24: 'based',\n",
       " 25: 'on',\n",
       " 26: 'a',\n",
       " 27: 'combination\\r\\nof',\n",
       " 28: 'the',\n",
       " 29: 'etext',\n",
       " 30: 'from',\n",
       " 31: 'the',\n",
       " 32: 'ERIS',\n",
       " 33: 'project',\n",
       " 34: 'at',\n",
       " 35: 'Virginia',\n",
       " 36: 'Tech',\n",
       " 37: 'and',\n",
       " 38: 'another',\n",
       " 39: 'from\\r\\nProject',\n",
       " 40: \"Gutenberg's\",\n",
       " 41: 'archives,',\n",
       " 42: 'as',\n",
       " 43: 'compared',\n",
       " 44: 'to',\n",
       " 45: 'a',\n",
       " 46: 'public-domain',\n",
       " 47: 'hard',\n",
       " 48: 'copy.'}"
      ]
     },
     "execution_count": 52,
     "metadata": {},
     "output_type": "execute_result"
    }
   ],
   "source": [
    "num_to_word"
   ]
  },
  {
   "cell_type": "code",
   "execution_count": 55,
   "metadata": {},
   "outputs": [
    {
     "data": {
      "text/plain": [
       "45"
      ]
     },
     "execution_count": 55,
     "metadata": {},
     "output_type": "execute_result"
    }
   ],
   "source": [
    "word_to_num['a']"
   ]
  },
  {
   "cell_type": "code",
   "execution_count": 56,
   "metadata": {},
   "outputs": [
    {
     "data": {
      "text/plain": [
       "'a'"
      ]
     },
     "execution_count": 56,
     "metadata": {},
     "output_type": "execute_result"
    }
   ],
   "source": [
    "num_to_word[45]"
   ]
  },
  {
   "cell_type": "code",
   "execution_count": 30,
   "metadata": {},
   "outputs": [],
   "source": [
    "dct = {'The': 1, 'Taj': 2, \"Mahal\":3}"
   ]
  },
  {
   "cell_type": "code",
   "execution_count": 38,
   "metadata": {},
   "outputs": [
    {
     "data": {
      "text/plain": [
       "['The', 'Mahal', 'Taj']"
      ]
     },
     "execution_count": 38,
     "metadata": {},
     "output_type": "execute_result"
    }
   ],
   "source": [
    "dct.keys()"
   ]
  },
  {
   "cell_type": "code",
   "execution_count": 41,
   "metadata": {},
   "outputs": [
    {
     "name": "stdout",
     "output_type": "stream",
     "text": [
      "('The', 1)\n",
      "('Mahal', 3)\n",
      "('Taj', 2)\n"
     ]
    }
   ],
   "source": [
    "for i in dct.keys():\n",
    "    print(i, dct[i])"
   ]
  },
  {
   "cell_type": "code",
   "execution_count": null,
   "metadata": {},
   "outputs": [],
   "source": []
  }
 ],
 "metadata": {
  "kernelspec": {
   "display_name": "Python 2",
   "language": "python",
   "name": "python2"
  },
  "language_info": {
   "codemirror_mode": {
    "name": "ipython",
    "version": 2
   },
   "file_extension": ".py",
   "mimetype": "text/x-python",
   "name": "python",
   "nbconvert_exporter": "python",
   "pygments_lexer": "ipython2",
   "version": "2.7.16"
  }
 },
 "nbformat": 4,
 "nbformat_minor": 2
}
