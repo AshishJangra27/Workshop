{
 "cells": [
  {
   "cell_type": "code",
   "execution_count": 1,
   "metadata": {},
   "outputs": [],
   "source": [
    "corpus = ['king is a strong man',\n",
    "         'queen is a wise woman',\n",
    "         'boy is a young man',\n",
    "         'girl is a young woman',\n",
    "         'princess is a young queen',\n",
    "         'prince is a young king',\n",
    "         'man is strong',\n",
    "         'woman is preety',\n",
    "         'prince is a boy will be king',\n",
    "         'princess is a girl will be queen']"
   ]
  },
  {
   "cell_type": "code",
   "execution_count": 5,
   "metadata": {},
   "outputs": [
    {
     "name": "stdout",
     "output_type": "stream",
     "text": [
      "king is a strong man\n",
      "queen is a wise woman\n",
      "boy is a young man\n",
      "girl is a young woman\n",
      "princess is a young queen\n",
      "prince is a young king\n",
      "man is strong\n",
      "woman is preety\n",
      "prince is a boy will be king\n",
      "princess is a girl will be queen\n"
     ]
    }
   ],
   "source": [
    "for sent in corpus:\n",
    "    print(sent)"
   ]
  },
  {
   "cell_type": "code",
   "execution_count": 8,
   "metadata": {},
   "outputs": [],
   "source": [
    "tok = []\n",
    "\n",
    "for sent in corpus:\n",
    "    tok.append(sent.split(' '))"
   ]
  },
  {
   "cell_type": "code",
   "execution_count": 11,
   "metadata": {},
   "outputs": [],
   "source": [
    "from nltk.corpus import stopwords"
   ]
  },
  {
   "cell_type": "code",
   "execution_count": 17,
   "metadata": {},
   "outputs": [],
   "source": [
    "stop_words = stopwords.words('english')"
   ]
  },
  {
   "cell_type": "code",
   "execution_count": 23,
   "metadata": {},
   "outputs": [],
   "source": [
    "stop_words_processed = []\n",
    "\n",
    "for i in stop_words:\n",
    "    \n",
    "    stop_words_processed.append(str(i))"
   ]
  },
  {
   "cell_type": "code",
   "execution_count": 104,
   "metadata": {},
   "outputs": [],
   "source": [
    "del tok"
   ]
  },
  {
   "cell_type": "code",
   "execution_count": 29,
   "metadata": {},
   "outputs": [
    {
     "data": {
      "text/plain": [
       "['i',\n",
       " 'me',\n",
       " 'my',\n",
       " 'myself',\n",
       " 'we',\n",
       " 'our',\n",
       " 'ours',\n",
       " 'ourselves',\n",
       " 'you',\n",
       " \"you're\",\n",
       " \"you've\",\n",
       " \"you'll\",\n",
       " \"you'd\",\n",
       " 'your',\n",
       " 'yours',\n",
       " 'yourself',\n",
       " 'yourselves',\n",
       " 'he',\n",
       " 'him',\n",
       " 'his',\n",
       " 'himself',\n",
       " 'she',\n",
       " \"she's\",\n",
       " 'her',\n",
       " 'hers',\n",
       " 'herself',\n",
       " 'it',\n",
       " \"it's\",\n",
       " 'its',\n",
       " 'itself',\n",
       " 'they',\n",
       " 'them',\n",
       " 'their',\n",
       " 'theirs',\n",
       " 'themselves',\n",
       " 'what',\n",
       " 'which',\n",
       " 'who',\n",
       " 'whom',\n",
       " 'this',\n",
       " 'that',\n",
       " \"that'll\",\n",
       " 'these',\n",
       " 'those',\n",
       " 'am',\n",
       " 'is',\n",
       " 'are',\n",
       " 'was',\n",
       " 'were',\n",
       " 'be',\n",
       " 'been',\n",
       " 'being',\n",
       " 'have',\n",
       " 'has',\n",
       " 'had',\n",
       " 'having',\n",
       " 'do',\n",
       " 'does',\n",
       " 'did',\n",
       " 'doing',\n",
       " 'a',\n",
       " 'an',\n",
       " 'the',\n",
       " 'and',\n",
       " 'but',\n",
       " 'if',\n",
       " 'or',\n",
       " 'because',\n",
       " 'as',\n",
       " 'until',\n",
       " 'while',\n",
       " 'of',\n",
       " 'at',\n",
       " 'by',\n",
       " 'for',\n",
       " 'with',\n",
       " 'about',\n",
       " 'against',\n",
       " 'between',\n",
       " 'into',\n",
       " 'through',\n",
       " 'during',\n",
       " 'before',\n",
       " 'after',\n",
       " 'above',\n",
       " 'below',\n",
       " 'to',\n",
       " 'from',\n",
       " 'up',\n",
       " 'down',\n",
       " 'in',\n",
       " 'out',\n",
       " 'on',\n",
       " 'off',\n",
       " 'over',\n",
       " 'under',\n",
       " 'again',\n",
       " 'further',\n",
       " 'then',\n",
       " 'once',\n",
       " 'here',\n",
       " 'there',\n",
       " 'when',\n",
       " 'where',\n",
       " 'why',\n",
       " 'how',\n",
       " 'all',\n",
       " 'any',\n",
       " 'both',\n",
       " 'each',\n",
       " 'few',\n",
       " 'more',\n",
       " 'most',\n",
       " 'other',\n",
       " 'some',\n",
       " 'such',\n",
       " 'no',\n",
       " 'nor',\n",
       " 'not',\n",
       " 'only',\n",
       " 'own',\n",
       " 'same',\n",
       " 'so',\n",
       " 'than',\n",
       " 'too',\n",
       " 'very',\n",
       " 's',\n",
       " 't',\n",
       " 'can',\n",
       " 'will',\n",
       " 'just',\n",
       " 'don',\n",
       " \"don't\",\n",
       " 'should',\n",
       " \"should've\",\n",
       " 'now',\n",
       " 'd',\n",
       " 'll',\n",
       " 'm',\n",
       " 'o',\n",
       " 're',\n",
       " 've',\n",
       " 'y',\n",
       " 'ain',\n",
       " 'aren',\n",
       " \"aren't\",\n",
       " 'couldn',\n",
       " \"couldn't\",\n",
       " 'didn',\n",
       " \"didn't\",\n",
       " 'doesn',\n",
       " \"doesn't\",\n",
       " 'hadn',\n",
       " \"hadn't\",\n",
       " 'hasn',\n",
       " \"hasn't\",\n",
       " 'haven',\n",
       " \"haven't\",\n",
       " 'isn',\n",
       " \"isn't\",\n",
       " 'ma',\n",
       " 'mightn',\n",
       " \"mightn't\",\n",
       " 'mustn',\n",
       " \"mustn't\",\n",
       " 'needn',\n",
       " \"needn't\",\n",
       " 'shan',\n",
       " \"shan't\",\n",
       " 'shouldn',\n",
       " \"shouldn't\",\n",
       " 'wasn',\n",
       " \"wasn't\",\n",
       " 'weren',\n",
       " \"weren't\",\n",
       " 'won',\n",
       " \"won't\",\n",
       " 'wouldn',\n",
       " \"wouldn't\"]"
      ]
     },
     "execution_count": 29,
     "metadata": {},
     "output_type": "execute_result"
    }
   ],
   "source": [
    "stop_words_processed"
   ]
  },
  {
   "cell_type": "code",
   "execution_count": 36,
   "metadata": {},
   "outputs": [],
   "source": [
    "processed_tok = []\n",
    "\n",
    "for sent in tok:\n",
    "    \n",
    "    temp = []\n",
    "    for word in sent:\n",
    "        \n",
    "        if (word not in stop_words_processed):\n",
    "            temp.append(word)\n",
    "            \n",
    "    processed_tok.append(temp)"
   ]
  },
  {
   "cell_type": "code",
   "execution_count": 37,
   "metadata": {},
   "outputs": [
    {
     "data": {
      "text/plain": [
       "[['king', 'strong', 'man'],\n",
       " ['queen', 'wise', 'woman'],\n",
       " ['boy', 'young', 'man'],\n",
       " ['girl', 'young', 'woman'],\n",
       " ['princess', 'young', 'queen'],\n",
       " ['prince', 'young', 'king'],\n",
       " ['man', 'strong'],\n",
       " ['woman', 'preety'],\n",
       " ['prince', 'boy', 'king'],\n",
       " ['princess', 'girl', 'queen']]"
      ]
     },
     "execution_count": 37,
     "metadata": {},
     "output_type": "execute_result"
    }
   ],
   "source": [
    "processed_tok"
   ]
  },
  {
   "cell_type": "code",
   "execution_count": 43,
   "metadata": {},
   "outputs": [],
   "source": [
    "words = []\n",
    "\n",
    "for sent in processed_tok:\n",
    "    for word in sent:\n",
    "        \n",
    "        words.append(word)"
   ]
  },
  {
   "cell_type": "code",
   "execution_count": 56,
   "metadata": {},
   "outputs": [],
   "source": [
    "unique_words = list(set(words))"
   ]
  },
  {
   "cell_type": "code",
   "execution_count": 60,
   "metadata": {
    "scrolled": true
   },
   "outputs": [
    {
     "data": {
      "text/plain": [
       "['king',\n",
       " 'woman',\n",
       " 'wise',\n",
       " 'boy',\n",
       " 'queen',\n",
       " 'young',\n",
       " 'prince',\n",
       " 'preety',\n",
       " 'girl',\n",
       " 'strong',\n",
       " 'princess',\n",
       " 'man']"
      ]
     },
     "execution_count": 60,
     "metadata": {},
     "output_type": "execute_result"
    }
   ],
   "source": [
    "unique_words"
   ]
  },
  {
   "cell_type": "markdown",
   "metadata": {},
   "source": [
    "# ONE-HOT-ENCODING\n",
    "## ONE-HOT-ENCODING\n",
    "### ONE-HOT-ENCODING\n",
    "#### ONE-HOT-ENCODING\n",
    "##### ONE-HOT-ENCODING"
   ]
  },
  {
   "cell_type": "code",
   "execution_count": null,
   "metadata": {},
   "outputs": [],
   "source": [
    "                        ['king', 'woman', 'wise','boy','queen','young','prince','preety' ,'strong','man']\n",
    "'king strong man king'      1  ,    0   ,   0   ,  0  ,   0   ,   0   ,   0    ,    0    ,   1    , 1\n",
    "'queen wise woman'         0   ,   1   ,   1   ,  0  ,   1   ,  0    ,   0    ,    0     ,  0    , 0"
   ]
  },
  {
   "cell_type": "code",
   "execution_count": null,
   "metadata": {},
   "outputs": [],
   "source": [
    "[1  ,    0   ,   0   ,  0  ,   0   ,   0   ,   0    ,    0    ,   1    , 1]\n",
    "[0  ,    1   ,   1   ,  0  ,   1   ,   0   ,   0    ,    0    ,   0    , 0]"
   ]
  },
  {
   "cell_type": "code",
   "execution_count": null,
   "metadata": {},
   "outputs": [],
   "source": [
    "                                        ['this', 'thing', 'is','good','not','bad','at','all]\n",
    "'this thing is good, not bad at all'      1  ,    0   ,   0   ,  0  ,   0   ,   0   ,   0    ,    0    ,   1    , 1\n",
    "'this thing is bad, not good at all'      1  ,   1   ,   1   ,  0  ,   1   ,  0    ,   0    ,    0     ,  0    , 0"
   ]
  },
  {
   "cell_type": "code",
   "execution_count": null,
   "metadata": {},
   "outputs": [],
   "source": [
    "pos = ['good','better','best','great']\n",
    "neg = ['worst','bad','ugly']\n",
    "\n",
    "sent = 'this thing is good, not bad at all'"
   ]
  },
  {
   "cell_type": "code",
   "execution_count": 67,
   "metadata": {},
   "outputs": [
    {
     "data": {
      "text/plain": [
       "['king',\n",
       " 'woman',\n",
       " 'wise',\n",
       " 'boy',\n",
       " 'queen',\n",
       " 'young',\n",
       " 'prince',\n",
       " 'preety',\n",
       " 'girl',\n",
       " 'strong',\n",
       " 'princess',\n",
       " 'man']"
      ]
     },
     "execution_count": 67,
     "metadata": {},
     "output_type": "execute_result"
    }
   ],
   "source": [
    "unique_words"
   ]
  },
  {
   "cell_type": "code",
   "execution_count": null,
   "metadata": {},
   "outputs": [],
   "source": []
  },
  {
   "cell_type": "code",
   "execution_count": 68,
   "metadata": {},
   "outputs": [],
   "source": [
    "word_to_num = {}\n",
    "num_to_word = {}\n",
    "\n",
    "for i in range(len(unique_words)):\n",
    "    \n",
    "    word_to_num[unique_words[i]] = i+1\n",
    "    num_to_word[i+1] = unique_words[i]"
   ]
  },
  {
   "cell_type": "code",
   "execution_count": 69,
   "metadata": {},
   "outputs": [
    {
     "data": {
      "text/plain": [
       "{'boy': 4,\n",
       " 'girl': 9,\n",
       " 'king': 1,\n",
       " 'man': 12,\n",
       " 'preety': 8,\n",
       " 'prince': 7,\n",
       " 'princess': 11,\n",
       " 'queen': 5,\n",
       " 'strong': 10,\n",
       " 'wise': 3,\n",
       " 'woman': 2,\n",
       " 'young': 6}"
      ]
     },
     "execution_count": 69,
     "metadata": {},
     "output_type": "execute_result"
    }
   ],
   "source": [
    "word_to_num"
   ]
  },
  {
   "cell_type": "code",
   "execution_count": 77,
   "metadata": {},
   "outputs": [
    {
     "data": {
      "text/plain": [
       "1"
      ]
     },
     "execution_count": 77,
     "metadata": {},
     "output_type": "execute_result"
    }
   ],
   "source": [
    "word_to_num['king']"
   ]
  },
  {
   "cell_type": "code",
   "execution_count": null,
   "metadata": {},
   "outputs": [],
   "source": []
  },
  {
   "cell_type": "code",
   "execution_count": 71,
   "metadata": {},
   "outputs": [
    {
     "data": {
      "text/plain": [
       "'boy'"
      ]
     },
     "execution_count": 71,
     "metadata": {},
     "output_type": "execute_result"
    }
   ],
   "source": [
    "num_to_word[4]"
   ]
  },
  {
   "cell_type": "code",
   "execution_count": 85,
   "metadata": {
    "scrolled": true
   },
   "outputs": [
    {
     "data": {
      "text/plain": [
       "[['king', 'strong', 'man'],\n",
       " ['queen', 'wise', 'woman'],\n",
       " ['boy', 'young', 'man'],\n",
       " ['girl', 'young', 'woman'],\n",
       " ['princess', 'young', 'queen'],\n",
       " ['prince', 'young', 'king'],\n",
       " ['man', 'strong'],\n",
       " ['woman', 'preety'],\n",
       " ['prince', 'boy', 'king'],\n",
       " ['princess', 'girl', 'queen']]"
      ]
     },
     "execution_count": 85,
     "metadata": {},
     "output_type": "execute_result"
    }
   ],
   "source": [
    "processed_tok"
   ]
  },
  {
   "cell_type": "code",
   "execution_count": 81,
   "metadata": {},
   "outputs": [],
   "source": [
    "encoded_tok = []\n",
    "\n",
    "for sent in processed_tok:\n",
    "    temp = []\n",
    "    for word in sent:\n",
    "\n",
    "        temp.append(word_to_num[word])\n",
    "\n",
    "    encoded_tok.append(temp)"
   ]
  },
  {
   "cell_type": "code",
   "execution_count": 82,
   "metadata": {},
   "outputs": [
    {
     "data": {
      "text/plain": [
       "[[1, 10, 12],\n",
       " [5, 3, 2],\n",
       " [4, 6, 12],\n",
       " [9, 6, 2],\n",
       " [11, 6, 5],\n",
       " [7, 6, 1],\n",
       " [12, 10],\n",
       " [2, 8],\n",
       " [7, 4, 1],\n",
       " [11, 9, 5]]"
      ]
     },
     "execution_count": 82,
     "metadata": {},
     "output_type": "execute_result"
    }
   ],
   "source": [
    "encoded_tok"
   ]
  },
  {
   "cell_type": "code",
   "execution_count": 84,
   "metadata": {},
   "outputs": [
    {
     "name": "stdout",
     "output_type": "stream",
     "text": [
      "['king', 'strong', 'man']\n",
      "['queen', 'wise', 'woman']\n",
      "['boy', 'young', 'man']\n",
      "['girl', 'young', 'woman']\n",
      "['princess', 'young', 'queen']\n",
      "['prince', 'young', 'king']\n",
      "['man', 'strong']\n",
      "['woman', 'preety']\n",
      "['prince', 'boy', 'king']\n",
      "['princess', 'girl', 'queen']\n"
     ]
    }
   ],
   "source": [
    "for sent in encoded_tok:\n",
    "    temp = []\n",
    "    for word in sent:\n",
    "\n",
    "        temp.append(num_to_word[word])\n",
    "\n",
    "    print(temp)"
   ]
  },
  {
   "cell_type": "code",
   "execution_count": 94,
   "metadata": {},
   "outputs": [
    {
     "data": {
      "text/plain": [
       "{1: 'king',\n",
       " 2: 'woman',\n",
       " 3: 'wise',\n",
       " 4: 'boy',\n",
       " 5: 'queen',\n",
       " 6: 'young',\n",
       " 7: 'prince',\n",
       " 8: 'preety',\n",
       " 9: 'girl',\n",
       " 10: 'strong',\n",
       " 11: 'princess',\n",
       " 12: 'man'}"
      ]
     },
     "execution_count": 94,
     "metadata": {},
     "output_type": "execute_result"
    }
   ],
   "source": [
    "num_to_word"
   ]
  },
  {
   "cell_type": "code",
   "execution_count": 91,
   "metadata": {},
   "outputs": [
    {
     "data": {
      "text/plain": [
       "['king',\n",
       " 'woman',\n",
       " 'wise',\n",
       " 'boy',\n",
       " 'queen',\n",
       " 'young',\n",
       " 'prince',\n",
       " 'preety',\n",
       " 'girl',\n",
       " 'strong',\n",
       " 'princess',\n",
       " 'man']"
      ]
     },
     "execution_count": 91,
     "metadata": {},
     "output_type": "execute_result"
    }
   ],
   "source": [
    "unique_words"
   ]
  },
  {
   "cell_type": "code",
   "execution_count": 102,
   "metadata": {},
   "outputs": [],
   "source": [
    "txt = '#$%^&*1234567890'\n",
    "txt = txt.replace('#',\"\")\n",
    "txt = txt.replace('$',\"\")\n",
    "txt = txt.replace('%',\"\")\n",
    "txt = txt.replace('^',\"\")\n",
    "txt = txt.replace('&',\"\")\n",
    "txt = txt.replace('*',\"\")"
   ]
  },
  {
   "cell_type": "code",
   "execution_count": 103,
   "metadata": {},
   "outputs": [
    {
     "data": {
      "text/plain": [
       "'1234567890'"
      ]
     },
     "execution_count": 103,
     "metadata": {},
     "output_type": "execute_result"
    }
   ],
   "source": [
    "txt"
   ]
  },
  {
   "cell_type": "code",
   "execution_count": null,
   "metadata": {},
   "outputs": [],
   "source": []
  }
 ],
 "metadata": {
  "kernelspec": {
   "display_name": "Python 2",
   "language": "python",
   "name": "python2"
  },
  "language_info": {
   "codemirror_mode": {
    "name": "ipython",
    "version": 2
   },
   "file_extension": ".py",
   "mimetype": "text/x-python",
   "name": "python",
   "nbconvert_exporter": "python",
   "pygments_lexer": "ipython2",
   "version": "2.7.16"
  }
 },
 "nbformat": 4,
 "nbformat_minor": 2
}
