{
 "cells": [
  {
   "cell_type": "code",
   "execution_count": 7,
   "metadata": {},
   "outputs": [
    {
     "name": "stdout",
     "output_type": "stream",
     "text": [
      "Hello! Welcome to Dominos!\n",
      "\n",
      "1. for Veg\n",
      "2. for Non - Veg\n",
      "What kind of pizza do you want?2\n",
      "1. P1\n",
      "2. P2\n",
      "3. P3\n",
      "UGljayBvbmUg8J+Rhw==\n",
      "2\n"
     ]
    }
   ],
   "source": [
    "print(\"Hello! Welcome to Dominos!\")\n",
    "\n",
    "print('')\n",
    "\n",
    "print(\"1. for Veg\")\n",
    "print(\"2. for Non - Veg\")\n",
    " \n",
    "q1 = raw_input(\"What kind of pizza do you want?\")\n",
    "\n",
    "\n",
    "print(\"1. P1\")\n",
    "print(\"2. P2\")\n",
    "print(\"3. P3\")\n",
    "\n",
    "q2 = raw_input(\"Pick one\")\n",
    "\n",
    "\n"
   ]
  },
  {
   "cell_type": "code",
   "execution_count": 12,
   "metadata": {},
   "outputs": [
    {
     "name": "stdout",
     "output_type": "stream",
     "text": [
      "set AN alarm at 5am\n",
      "Alarm Set FOR 5 AM\n"
     ]
    }
   ],
   "source": [
    "q1 = raw_input(\"\").lower()\n",
    "\n",
    "if (q1 == \"Set an alarm at 5AM\".lower()):\n",
    "    print(\"Alarm Set FOR 5 AM\")"
   ]
  },
  {
   "cell_type": "code",
   "execution_count": 9,
   "metadata": {},
   "outputs": [
    {
     "data": {
      "text/plain": [
       "'2'"
      ]
     },
     "execution_count": 9,
     "metadata": {},
     "output_type": "execute_result"
    }
   ],
   "source": []
  },
  {
   "cell_type": "code",
   "execution_count": null,
   "metadata": {},
   "outputs": [],
   "source": []
  }
 ],
 "metadata": {
  "kernelspec": {
   "display_name": "Python 2",
   "language": "python",
   "name": "python2"
  },
  "language_info": {
   "codemirror_mode": {
    "name": "ipython",
    "version": 2
   },
   "file_extension": ".py",
   "mimetype": "text/x-python",
   "name": "python",
   "nbconvert_exporter": "python",
   "pygments_lexer": "ipython2",
   "version": "2.7.16"
  }
 },
 "nbformat": 4,
 "nbformat_minor": 2
}
