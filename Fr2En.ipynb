{
 "cells": [
  {
   "cell_type": "code",
   "execution_count": 98,
   "metadata": {},
   "outputs": [],
   "source": [
    "import numpy as np\n",
    "\n",
    "from keras.models import Model, Sequential\n",
    "from keras.layers import GRU, Input, Dense, TimeDistributed, Activation, RepeatVector, Bidirectional, Embedding\n",
    "from keras.optimizers import Adam\n",
    "\n",
    "from keras.preprocessing.text import Tokenizer\n",
    "from keras.preprocessing.sequence import pad_sequences"
   ]
  },
  {
   "cell_type": "code",
   "execution_count": 99,
   "metadata": {},
   "outputs": [],
   "source": [
    "f = open('small_vocab_en.txt','r')\n",
    "en = f.read()\n",
    "\n",
    "f = open('small_vocab_fr.txt','r')\n",
    "fr = f.read()\n",
    "\n",
    "en = en.split('\\n')\n",
    "fr  = fr.split('\\n')"
   ]
  },
  {
   "cell_type": "code",
   "execution_count": 100,
   "metadata": {},
   "outputs": [
    {
     "name": "stdout",
     "output_type": "stream",
     "text": [
      "new jersey is sometimes quiet during autumn , and it is snowy in april .\n",
      "new jersey est parfois calme pendant l' automne , et il est neigeux en avril .\n"
     ]
    }
   ],
   "source": [
    "print(en[0])\n",
    "print(fr[0])"
   ]
  },
  {
   "cell_type": "code",
   "execution_count": 101,
   "metadata": {},
   "outputs": [],
   "source": [
    "en_tk = Tokenizer(char_level = False)\n",
    "en_tk.fit_on_texts(en)\n",
    "\n",
    "fr_tk = Tokenizer(char_level = False)\n",
    "fr_tk.fit_on_texts(fr)\n",
    "\n",
    "en_enc = en_tk.texts_to_sequences(en)\n",
    "fr_enc = fr_tk.texts_to_sequences(fr)"
   ]
  },
  {
   "cell_type": "code",
   "execution_count": 102,
   "metadata": {
    "scrolled": true
   },
   "outputs": [
    {
     "name": "stdout",
     "output_type": "stream",
     "text": [
      "French:  new jersey est parfois calme pendant l' automne , et il est neigeux en avril .\n",
      "English:  new jersey is sometimes quiet during autumn , and it is snowy in april .\n",
      "\n",
      "Encoded French :  [35, 34, 1, 8, 67, 37, 11, 24, 6, 3, 1, 112, 2, 50]\n",
      "Encoded English:  [17, 23, 1, 8, 67, 4, 39, 7, 3, 1, 55, 2, 44]\n"
     ]
    }
   ],
   "source": [
    "print \"French: \",fr[0]\n",
    "print \"English: \",en[0]\n",
    "print \n",
    "print \"Encoded French : \",fr_enc[0]\n",
    "print \"Encoded English: \",en_enc[0]"
   ]
  },
  {
   "cell_type": "code",
   "execution_count": 103,
   "metadata": {},
   "outputs": [],
   "source": [
    "def get_max_len(enc):\n",
    "    tmp = []\n",
    "    for i in enc:\n",
    "        tmp.append(len(i))\n",
    "    return max(tmp)\n",
    "\n",
    "max_french_sequence_length  = get_max_len(fr_enc)\n",
    "max_english_sequence_length = get_max_len(en_enc)\n",
    "\n",
    "max_french_sequence_length = 10\n",
    "max_english_sequence_length = 10"
   ]
  },
  {
   "cell_type": "code",
   "execution_count": 104,
   "metadata": {},
   "outputs": [],
   "source": [
    "fr_enc = pad_sequences(fr_enc, max_french_sequence_length)\n",
    "en_enc = pad_sequences(en_enc, max_french_sequence_length)"
   ]
  },
  {
   "cell_type": "code",
   "execution_count": 105,
   "metadata": {
    "scrolled": true
   },
   "outputs": [
    {
     "name": "stdout",
     "output_type": "stream",
     "text": [
      "French  VocabSize:  345\n",
      "English VocabSize:  199\n"
     ]
    }
   ],
   "source": [
    "print \"French  VocabSize: \",len(fr_tk.word_index)\n",
    "print \"English VocabSize: \",len(en_tk.word_index)"
   ]
  },
  {
   "cell_type": "code",
   "execution_count": 106,
   "metadata": {},
   "outputs": [],
   "source": [
    "fr_enc = np.reshape(fr_enc, (137861,max_french_sequence_length ))\n",
    "en_enc = np.reshape(en_enc, (137861,max_english_sequence_length,1))"
   ]
  },
  {
   "cell_type": "code",
   "execution_count": 109,
   "metadata": {},
   "outputs": [],
   "source": [
    "french_vocab_size  = len(fr_tk.word_index)+1\n",
    "english_vocab_size = len(en_tk.word_index)+1\n",
    "\n",
    "model = Sequential()\n",
    "\n",
    "model.add(Embedding(french_vocab_size, 64, input_length = max_english_sequence_length) )\n",
    "model.add(GRU(64, return_sequences=True, activation=\"tanh\")    )\n",
    "model.add(TimeDistributed(Dense(english_vocab_size, activation=\"softmax\")))\n",
    "\n",
    "model.compile(loss = 'sparse_categorical_crossentropy', optimizer = Adam(1e-3), metrics = ['accuracy'])"
   ]
  },
  {
   "cell_type": "markdown",
   "metadata": {},
   "source": [
    "# French to English Translator"
   ]
  },
  {
   "cell_type": "code",
   "execution_count": 110,
   "metadata": {
    "scrolled": true
   },
   "outputs": [
    {
     "name": "stdout",
     "output_type": "stream",
     "text": [
      "Train on 124074 samples, validate on 13787 samples\n",
      "Epoch 1/10\n",
      "124074/124074 [==============================] - 31s 248us/step - loss: 4.1399 - accuracy: 0.2211 - val_loss: 2.9083 - val_accuracy: 0.4047\n",
      "Epoch 2/10\n",
      "124074/124074 [==============================] - 35s 286us/step - loss: 1.9008 - accuracy: 0.5835 - val_loss: 1.2410 - val_accuracy: 0.7348\n",
      "Epoch 3/10\n",
      "124074/124074 [==============================] - 36s 293us/step - loss: 0.9794 - accuracy: 0.7755 - val_loss: 0.7960 - val_accuracy: 0.8042\n",
      "Epoch 4/10\n",
      "124074/124074 [==============================] - 40s 321us/step - loss: 0.7104 - accuracy: 0.8212 - val_loss: 0.6236 - val_accuracy: 0.8387\n",
      "Epoch 5/10\n",
      "124074/124074 [==============================] - 40s 322us/step - loss: 0.5734 - accuracy: 0.8484 - val_loss: 0.5190 - val_accuracy: 0.8617\n",
      "Epoch 6/10\n",
      "124074/124074 [==============================] - 37s 300us/step - loss: 0.4861 - accuracy: 0.8682 - val_loss: 0.4498 - val_accuracy: 0.8782\n",
      "Epoch 7/10\n",
      "124074/124074 [==============================] - 50s 404us/step - loss: 0.4288 - accuracy: 0.8838 - val_loss: 0.4048 - val_accuracy: 0.8894\n",
      "Epoch 8/10\n",
      "124074/124074 [==============================] - 41s 329us/step - loss: 0.3902 - accuracy: 0.8923 - val_loss: 0.3736 - val_accuracy: 0.8950\n",
      "Epoch 9/10\n",
      "124074/124074 [==============================] - 33s 269us/step - loss: 0.3628 - accuracy: 0.8976 - val_loss: 0.3506 - val_accuracy: 0.8990\n",
      "Epoch 10/10\n",
      "124074/124074 [==============================] - 26s 213us/step - loss: 0.3433 - accuracy: 0.9009 - val_loss: 0.3351 - val_accuracy: 0.9014\n"
     ]
    },
    {
     "data": {
      "text/plain": [
       "<keras.callbacks.callbacks.History at 0x1c4f0b7f90>"
      ]
     },
     "execution_count": 110,
     "metadata": {},
     "output_type": "execute_result"
    }
   ],
   "source": [
    "model.fit(fr_enc, en_enc , batch_size=1024, epochs = 10, validation_split = 0.1)"
   ]
  },
  {
   "cell_type": "code",
   "execution_count": 124,
   "metadata": {
    "scrolled": false
   },
   "outputs": [
    {
     "name": "stdout",
     "output_type": "stream",
     "text": [
      "----------------------------------------------------------\n",
      "\n",
      "French :  calme pendant l' automne et il est neigeux en avril\n",
      "Actual :  sometimes quiet during autumn and it is snowy in april\n",
      "Pred   :  quiet quiet during autumn and it is snowy in april\n",
      "\n",
      "----------------------------------------------------------\n",
      "\n",
      "French :  généralement froid en juillet et il gèle habituellement en novembre\n",
      "Actual :  chilly during july and it is usually freezing in november\n",
      "Pred   :  usually chilly during july and it never freezing in november\n",
      "\n",
      "----------------------------------------------------------\n",
      "\n",
      "French :  calme en mars et il est généralement chaud en juin\n",
      "Actual :  quiet during march and it is usually hot in june\n",
      "Pred   :  quiet during march and it is usually hot in june\n",
      "\n",
      "----------------------------------------------------------\n",
      "\n",
      "French :  parfois légère en juin et il fait froid en septembre\n",
      "Actual :  sometimes mild during june and it is cold in september\n",
      "Pred   :  sometimes during during june and it is cold in september\n",
      "\n",
      "----------------------------------------------------------\n",
      "\n",
      "French :  est le raisin mais mon moins aimé est la pomme\n",
      "Actual :  is the grape but my least liked is the apple\n",
      "Pred   :  is the grape but my least liked is the apple\n",
      "\n",
      "----------------------------------------------------------\n",
      "\n",
      "French :  fruit préféré est l'orange mais mon préféré est le raisin\n",
      "Actual :  fruit is the orange but my favorite is the grape\n",
      "Pred   :  least favorite the orange but my favorite is the grape\n",
      "\n",
      "----------------------------------------------------------\n",
      "\n",
      "French :  relaxant en décembre mais il est généralement froid en juillet\n",
      "Actual :  relaxing during december but it is usually chilly in july\n",
      "Pred   :  relaxing during december but it is usually chilly in july\n",
      "\n",
      "----------------------------------------------------------\n",
      "\n",
      "French :  occupé au printemps et il est jamais chaude en mars\n",
      "Actual :  busy during spring and it is never hot in march\n",
      "Pred   :  busy during spring and it is never hot in march\n",
      "\n",
      "----------------------------------------------------------\n",
      "\n",
      "French :  aimé le citron mais mon moins aimé est le raisin\n",
      "Actual :  is the lemon but my least liked is the grape\n",
      "Pred   :  is the lemon but my least liked is the grape\n",
      "\n",
      "----------------------------------------------------------\n",
      "\n",
      "French :  occupé en janvier et il est parfois chaud en novembre\n",
      "Actual :  busy during january and it is sometimes warm in november\n",
      "Pred   :  busy during january and it is sometimes warm in november\n",
      "\n"
     ]
    }
   ],
   "source": [
    "fr_index_word = fr_tk.index_word\n",
    "fr_index_word[0] = ' '\n",
    "\n",
    "en_index_word = en_tk.index_word\n",
    "en_index_word[0] = ' '\n",
    "\n",
    "for ind in range(10):\n",
    "    \n",
    "    sent = fr_enc[ind:ind+1]\n",
    "    sent = np.reshape(sent,(1,10))\n",
    "    \n",
    "    pred = model.predict(sent)\n",
    "\n",
    "    pre = []\n",
    "    act = []\n",
    "    inp = []\n",
    "\n",
    "    for i in pred[0]:\n",
    "        pre.append(en_index_word[np.argmax(i)])\n",
    "\n",
    "    for i in range(10):\n",
    "        inp.append(fr_index_word[sent[0][i]])\n",
    "        \n",
    "    for i in range(10):\n",
    "        act.append(en_index_word[en_enc[ind:ind+1][0][i][0]])\n",
    "\n",
    "    print '----------------------------------------------------------'\n",
    "    \n",
    "    print\n",
    "    print \"French : \",' '.join(inp)\n",
    "    print \"Actual : \",' '.join(act)\n",
    "    print \"Pred   : \",' '.join(pre)\n",
    "    print"
   ]
  },
  {
   "cell_type": "code",
   "execution_count": 55,
   "metadata": {},
   "outputs": [],
   "source": [
    "model.save('Simple_En2Fr.mdl')"
   ]
  }
 ],
 "metadata": {
  "kernelspec": {
   "display_name": "Python 2",
   "language": "python",
   "name": "python2"
  },
  "language_info": {
   "codemirror_mode": {
    "name": "ipython",
    "version": 2
   },
   "file_extension": ".py",
   "mimetype": "text/x-python",
   "name": "python",
   "nbconvert_exporter": "python",
   "pygments_lexer": "ipython2",
   "version": "2.7.16"
  }
 },
 "nbformat": 4,
 "nbformat_minor": 2
}
