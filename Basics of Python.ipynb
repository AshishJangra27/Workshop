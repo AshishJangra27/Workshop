{
 "cells": [
  {
   "cell_type": "code",
   "execution_count": 9,
   "metadata": {},
   "outputs": [],
   "source": [
    "text = \"We have proveided a shott peragraph for this session.\""
   ]
  },
  {
   "cell_type": "code",
   "execution_count": 10,
   "metadata": {},
   "outputs": [
    {
     "data": {
      "text/plain": [
       "'We have proveided a shott peragraph for this session.'"
      ]
     },
     "execution_count": 10,
     "metadata": {},
     "output_type": "execute_result"
    }
   ],
   "source": [
    "text"
   ]
  },
  {
   "cell_type": "code",
   "execution_count": 11,
   "metadata": {},
   "outputs": [
    {
     "data": {
      "text/plain": [
       "str"
      ]
     },
     "execution_count": 11,
     "metadata": {},
     "output_type": "execute_result"
    }
   ],
   "source": [
    "type(text)"
   ]
  },
  {
   "cell_type": "code",
   "execution_count": 13,
   "metadata": {},
   "outputs": [],
   "source": [
    "words = text.split(' ')"
   ]
  },
  {
   "cell_type": "code",
   "execution_count": 15,
   "metadata": {},
   "outputs": [
    {
     "data": {
      "text/plain": [
       "list"
      ]
     },
     "execution_count": 15,
     "metadata": {},
     "output_type": "execute_result"
    }
   ],
   "source": [
    "type(words)"
   ]
  },
  {
   "cell_type": "code",
   "execution_count": 18,
   "metadata": {},
   "outputs": [
    {
     "data": {
      "text/plain": [
       "['We',\n",
       " 'have',\n",
       " 'proveided',\n",
       " 'a',\n",
       " 'shott',\n",
       " 'peragraph',\n",
       " 'for',\n",
       " 'this',\n",
       " 'session.']"
      ]
     },
     "execution_count": 18,
     "metadata": {},
     "output_type": "execute_result"
    }
   ],
   "source": [
    "words"
   ]
  },
  {
   "cell_type": "code",
   "execution_count": 31,
   "metadata": {},
   "outputs": [
    {
     "name": "stdout",
     "output_type": "stream",
     "text": [
      "We\n",
      "have\n",
      "proveided\n",
      "a\n",
      "shott\n",
      "peragraph\n",
      "for\n",
      "this\n",
      "session.\n"
     ]
    }
   ],
   "source": [
    "for i in words:\n",
    "    print(i)"
   ]
  },
  {
   "cell_type": "code",
   "execution_count": 29,
   "metadata": {},
   "outputs": [
    {
     "data": {
      "text/plain": [
       "9"
      ]
     },
     "execution_count": 29,
     "metadata": {},
     "output_type": "execute_result"
    }
   ],
   "source": [
    "len(words)"
   ]
  },
  {
   "cell_type": "code",
   "execution_count": 33,
   "metadata": {},
   "outputs": [],
   "source": [
    "import nltk"
   ]
  },
  {
   "cell_type": "code",
   "execution_count": 38,
   "metadata": {},
   "outputs": [],
   "source": [
    "text = '''We have proveided a shott peragraph for this session. \n",
    "        We have proveided a shott peragraph for this session.\n",
    "        We have proveided a shott peragraph for this session. \n",
    "        We have proveided a shott peragraph for this session. '''\n",
    "\n",
    "sent_tok = nltk.sent_tokenize(text)"
   ]
  },
  {
   "cell_type": "code",
   "execution_count": 39,
   "metadata": {},
   "outputs": [
    {
     "data": {
      "text/plain": [
       "['We have proveided a shott peragraph for this session.',\n",
       " 'We have proveided a shott peragraph for this session.',\n",
       " 'We have proveided a shott peragraph for this session.',\n",
       " 'We have proveided a shott peragraph for this session.']"
      ]
     },
     "execution_count": 39,
     "metadata": {},
     "output_type": "execute_result"
    }
   ],
   "source": [
    "sent_tok"
   ]
  },
  {
   "cell_type": "code",
   "execution_count": 40,
   "metadata": {},
   "outputs": [
    {
     "data": {
      "text/plain": [
       "4"
      ]
     },
     "execution_count": 40,
     "metadata": {},
     "output_type": "execute_result"
    }
   ],
   "source": [
    "len(sent_tok)"
   ]
  },
  {
   "cell_type": "code",
   "execution_count": 41,
   "metadata": {},
   "outputs": [],
   "source": [
    "txt = 'We have proveided a shott peragraph for this session'"
   ]
  },
  {
   "cell_type": "code",
   "execution_count": 42,
   "metadata": {},
   "outputs": [
    {
     "data": {
      "text/plain": [
       "['We',\n",
       " 'have',\n",
       " 'proveided',\n",
       " 'a',\n",
       " 'shott',\n",
       " 'peragraph',\n",
       " 'for',\n",
       " 'this',\n",
       " 'session']"
      ]
     },
     "execution_count": 42,
     "metadata": {},
     "output_type": "execute_result"
    }
   ],
   "source": [
    "nltk.word_tokenize(txt)"
   ]
  },
  {
   "cell_type": "code",
   "execution_count": null,
   "metadata": {},
   "outputs": [],
   "source": []
  },
  {
   "cell_type": "code",
   "execution_count": 46,
   "metadata": {},
   "outputs": [],
   "source": [
    "text = '''We have proveided a shott peragraph for this session 1. \n",
    "        We have proveided a shott peragraph for this session 2.\n",
    "        We have proveided a shott peragraph for this session 3. \n",
    "        We have proveided a shott peragraph for this session 4.'''\n",
    "\n",
    "sent_tok = nltk.sent_tokenize(text)"
   ]
  },
  {
   "cell_type": "code",
   "execution_count": 50,
   "metadata": {
    "scrolled": true
   },
   "outputs": [
    {
     "name": "stdout",
     "output_type": "stream",
     "text": [
      "['We', 'have', 'proveided', 'a', 'shott', 'peragraph', 'for', 'this', 'session', '1', '.']\n",
      "['We', 'have', 'proveided', 'a', 'shott', 'peragraph', 'for', 'this', 'session', '2', '.']\n",
      "['We', 'have', 'proveided', 'a', 'shott', 'peragraph', 'for', 'this', 'session', '3', '.']\n",
      "['We', 'have', 'proveided', 'a', 'shott', 'peragraph', 'for', 'this', 'session', '4', '.']\n"
     ]
    }
   ],
   "source": [
    "for sent in sent_tok:\n",
    "    \n",
    "    word_tok = nltk.word_tokenize(sent)\n",
    "    print(word_tok)"
   ]
  },
  {
   "cell_type": "code",
   "execution_count": 54,
   "metadata": {},
   "outputs": [
    {
     "name": "stdout",
     "output_type": "stream",
     "text": [
      "['We', 'have', 'proveided', 'a', 'shott', 'peragraph', 'for', 'this', 'session', '1', '.']\n",
      "['We', 'have', 'proveided', 'a', 'shott', 'peragraph', 'for', 'this', 'session', '2', '.']\n",
      "['We', 'have', 'proveided', 'a', 'shott', 'peragraph', 'for', 'this', 'session', '3', '.']\n",
      "['We', 'have', 'proveided', 'a', 'shott', 'peragraph', 'for', 'this', 'session', '4', '.']\n"
     ]
    }
   ],
   "source": [
    "for sent in sent_tok:\n",
    "    \n",
    "    print(nltk.word_tokenize(sent))"
   ]
  },
  {
   "cell_type": "code",
   "execution_count": null,
   "metadata": {},
   "outputs": [],
   "source": []
  },
  {
   "cell_type": "code",
   "execution_count": null,
   "metadata": {},
   "outputs": [],
   "source": []
  },
  {
   "cell_type": "code",
   "execution_count": 59,
   "metadata": {},
   "outputs": [],
   "source": [
    "text = '''We have proveided a shott peragraph for this session 1. We have proveided a shott peragraph for this session 2. We have proveided a shott peragraph for this session 3.  We have proveided a shott peragraph for this session 4.'''"
   ]
  },
  {
   "cell_type": "code",
   "execution_count": 60,
   "metadata": {},
   "outputs": [
    {
     "data": {
      "text/plain": [
       "['We have proveided a shott peragraph for this session 1',\n",
       " ' We have proveided a shott peragraph for this session 2',\n",
       " ' We have proveided a shott peragraph for this session 3',\n",
       " '  We have proveided a shott peragraph for this session 4',\n",
       " '']"
      ]
     },
     "execution_count": 60,
     "metadata": {},
     "output_type": "execute_result"
    }
   ],
   "source": [
    "text.split(\".\")"
   ]
  },
  {
   "cell_type": "code",
   "execution_count": 62,
   "metadata": {},
   "outputs": [],
   "source": [
    "sent = text.split(\".\")"
   ]
  },
  {
   "cell_type": "code",
   "execution_count": 65,
   "metadata": {},
   "outputs": [],
   "source": [
    "processed_sent = []\n",
    "\n",
    "for i in sent:\n",
    "    if (len(i) != 0):\n",
    "        processed_sent.append(i)"
   ]
  },
  {
   "cell_type": "code",
   "execution_count": 67,
   "metadata": {},
   "outputs": [
    {
     "data": {
      "text/plain": [
       "4"
      ]
     },
     "execution_count": 67,
     "metadata": {},
     "output_type": "execute_result"
    }
   ],
   "source": [
    "len(processed_sent)"
   ]
  },
  {
   "cell_type": "code",
   "execution_count": 68,
   "metadata": {},
   "outputs": [],
   "source": [
    "stopwords = ['a','this','the']"
   ]
  },
  {
   "cell_type": "code",
   "execution_count": 72,
   "metadata": {},
   "outputs": [],
   "source": [
    "text = '''We have proveided a shott peragraph for this session 1. \n",
    "        We have proveided a shott peragraph for this session 2.\n",
    "        We have proveided a shott peragraph for this session 3. \n",
    "        We have proveided a shott peragraph for this session 4'''\n",
    "\n",
    "sent_tok = nltk.sent_tokenize(text)\n",
    "\n",
    "tokenised_words = []\n",
    "\n",
    "for i in sent:\n",
    "    tokenised_words.append(nltk.word_tokenize(i))"
   ]
  },
  {
   "cell_type": "code",
   "execution_count": 74,
   "metadata": {},
   "outputs": [
    {
     "data": {
      "text/plain": [
       "5"
      ]
     },
     "execution_count": 74,
     "metadata": {},
     "output_type": "execute_result"
    }
   ],
   "source": [
    "len(tokenised_words)"
   ]
  },
  {
   "cell_type": "code",
   "execution_count": 77,
   "metadata": {},
   "outputs": [],
   "source": [
    "tokenised_words =  tokenised_words[:4]"
   ]
  },
  {
   "cell_type": "code",
   "execution_count": 78,
   "metadata": {},
   "outputs": [
    {
     "data": {
      "text/plain": [
       "[['We',\n",
       "  'have',\n",
       "  'proveided',\n",
       "  'a',\n",
       "  'shott',\n",
       "  'peragraph',\n",
       "  'for',\n",
       "  'this',\n",
       "  'session',\n",
       "  '1'],\n",
       " ['We',\n",
       "  'have',\n",
       "  'proveided',\n",
       "  'a',\n",
       "  'shott',\n",
       "  'peragraph',\n",
       "  'for',\n",
       "  'this',\n",
       "  'session',\n",
       "  '2'],\n",
       " ['We',\n",
       "  'have',\n",
       "  'proveided',\n",
       "  'a',\n",
       "  'shott',\n",
       "  'peragraph',\n",
       "  'for',\n",
       "  'this',\n",
       "  'session',\n",
       "  '3'],\n",
       " ['We',\n",
       "  'have',\n",
       "  'proveided',\n",
       "  'a',\n",
       "  'shott',\n",
       "  'peragraph',\n",
       "  'for',\n",
       "  'this',\n",
       "  'session',\n",
       "  '4']]"
      ]
     },
     "execution_count": 78,
     "metadata": {},
     "output_type": "execute_result"
    }
   ],
   "source": [
    "tokenised_words"
   ]
  },
  {
   "cell_type": "code",
   "execution_count": 89,
   "metadata": {},
   "outputs": [],
   "source": [
    "stopwords = ['a','this','the']"
   ]
  },
  {
   "cell_type": "code",
   "execution_count": 90,
   "metadata": {},
   "outputs": [
    {
     "name": "stdout",
     "output_type": "stream",
     "text": [
      "['We', 'have', 'proveided', 'shott', 'peragraph', 'for', 'session', '1']\n",
      "['We', 'have', 'proveided', 'shott', 'peragraph', 'for', 'session', '2']\n",
      "['We', 'have', 'proveided', 'shott', 'peragraph', 'for', 'session', '3']\n",
      "['We', 'have', 'proveided', 'shott', 'peragraph', 'for', 'session', '4']\n"
     ]
    }
   ],
   "source": [
    "for sent in tokenised_words:\n",
    "    \n",
    "    temp = []\n",
    "    for word in sent:\n",
    "        \n",
    "        if (word not in stopwords):\n",
    "            temp.append(word)\n",
    "            \n",
    "    print(temp)"
   ]
  },
  {
   "cell_type": "code",
   "execution_count": 83,
   "metadata": {},
   "outputs": [
    {
     "data": {
      "text/plain": [
       "True"
      ]
     },
     "execution_count": 83,
     "metadata": {},
     "output_type": "execute_result"
    }
   ],
   "source": [
    "'a' in stopwords"
   ]
  },
  {
   "cell_type": "code",
   "execution_count": 82,
   "metadata": {},
   "outputs": [
    {
     "data": {
      "text/plain": [
       "['a', 'this', 'the']"
      ]
     },
     "execution_count": 82,
     "metadata": {},
     "output_type": "execute_result"
    }
   ],
   "source": [
    "stopwords"
   ]
  },
  {
   "cell_type": "code",
   "execution_count": null,
   "metadata": {},
   "outputs": [],
   "source": []
  },
  {
   "cell_type": "code",
   "execution_count": null,
   "metadata": {},
   "outputs": [],
   "source": []
  },
  {
   "cell_type": "code",
   "execution_count": null,
   "metadata": {},
   "outputs": [],
   "source": []
  },
  {
   "cell_type": "code",
   "execution_count": 91,
   "metadata": {},
   "outputs": [],
   "source": [
    "from nltk.stem import PorterStemmer"
   ]
  },
  {
   "cell_type": "code",
   "execution_count": 92,
   "metadata": {},
   "outputs": [],
   "source": [
    "pos = PorterStemmer()"
   ]
  },
  {
   "cell_type": "code",
   "execution_count": 95,
   "metadata": {},
   "outputs": [
    {
     "data": {
      "text/plain": [
       "u'oil'"
      ]
     },
     "execution_count": 95,
     "metadata": {},
     "output_type": "execute_result"
    }
   ],
   "source": [
    "pos.stem('oiling')"
   ]
  },
  {
   "cell_type": "code",
   "execution_count": null,
   "metadata": {},
   "outputs": [],
   "source": []
  }
 ],
 "metadata": {
  "kernelspec": {
   "display_name": "Python 2",
   "language": "python",
   "name": "python2"
  },
  "language_info": {
   "codemirror_mode": {
    "name": "ipython",
    "version": 2
   },
   "file_extension": ".py",
   "mimetype": "text/x-python",
   "name": "python",
   "nbconvert_exporter": "python",
   "pygments_lexer": "ipython2",
   "version": "2.7.16"
  }
 },
 "nbformat": 4,
 "nbformat_minor": 2
}
